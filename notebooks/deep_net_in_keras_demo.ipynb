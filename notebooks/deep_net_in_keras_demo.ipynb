{
 "cells": [
  {
   "cell_type": "markdown",
   "metadata": {},
   "source": [
    "# Deep Neural Network in Keras"
   ]
  },
  {
   "cell_type": "markdown",
   "metadata": {},
   "source": [
    "Build an deep neural network to classify MNIST digits"
   ]
  },
  {
   "cell_type": "markdown",
   "metadata": {},
   "source": [
    "#### Set seed for reproducibility"
   ]
  },
  {
   "cell_type": "code",
   "execution_count": 1,
   "metadata": {},
   "outputs": [],
   "source": [
    "import numpy as np\n",
    "np.random.seed(42)"
   ]
  },
  {
   "cell_type": "markdown",
   "metadata": {},
   "source": [
    "#### Load dependencies"
   ]
  },
  {
   "cell_type": "code",
   "execution_count": 2,
   "metadata": {},
   "outputs": [
    {
     "name": "stderr",
     "output_type": "stream",
     "text": [
      "Using TensorFlow backend.\n"
     ]
    }
   ],
   "source": [
    "import keras\n",
    "from keras.datasets import mnist\n",
    "from keras.models import Sequential\n",
    "from keras.layers import Dense\n",
    "from keras.layers import Dropout\n",
    "from keras.layers.normalization import BatchNormalization\n",
    "from keras import regularizers\n",
    "from keras.optimizers import SGD"
   ]
  },
  {
   "cell_type": "markdown",
   "metadata": {},
   "source": [
    "#### Load data"
   ]
  },
  {
   "cell_type": "code",
   "execution_count": 3,
   "metadata": {},
   "outputs": [],
   "source": [
    "(X_train, y_train), (X_test, y_test) = mnist.load_data()"
   ]
  },
  {
   "cell_type": "markdown",
   "metadata": {},
   "source": [
    "#### Preprocess data"
   ]
  },
  {
   "cell_type": "code",
   "execution_count": 4,
   "metadata": {},
   "outputs": [],
   "source": [
    "X_train = X_train.reshape(60000, 784).astype('float32')\n",
    "X_test = X_test.reshape(10000, 784).astype('float32')"
   ]
  },
  {
   "cell_type": "code",
   "execution_count": 5,
   "metadata": {},
   "outputs": [],
   "source": [
    "X_train /= 255\n",
    "X_test /= 255"
   ]
  },
  {
   "cell_type": "code",
   "execution_count": 6,
   "metadata": {},
   "outputs": [],
   "source": [
    "n_classes = 10\n",
    "y_train = keras.utils.to_categorical(y_train, n_classes)\n",
    "y_test = keras.utils.to_categorical(y_test, n_classes)"
   ]
  },
  {
   "cell_type": "markdown",
   "metadata": {},
   "source": [
    "#### Design neural network architecture"
   ]
  },
  {
   "cell_type": "code",
   "execution_count": 7,
   "metadata": {},
   "outputs": [],
   "source": [
    "model = Sequential()\n",
    "#model.add(Dense(64, activation='relu', input_shape=(784,), kernel_regularizer=regularizers.l2(0.01)))\n",
    "model.add(Dense(64, activation='relu', input_shape=(784,)))\n",
    "model.add(BatchNormalization())\n",
    "model.add(Dropout(0.5))\n",
    "model.add(Dense(64, activation='relu'))\n",
    "model.add(BatchNormalization())\n",
    "model.add(Dropout(0.5))\n",
    "model.add(Dense(64, activation='relu'))\n",
    "model.add(BatchNormalization())\n",
    "model.add(Dropout(0.5))\n",
    "model.add(Dense(10, activation='softmax'))"
   ]
  },
  {
   "cell_type": "code",
   "execution_count": 8,
   "metadata": {
    "scrolled": true
   },
   "outputs": [
    {
     "name": "stdout",
     "output_type": "stream",
     "text": [
      "_________________________________________________________________\n",
      "Layer (type)                 Output Shape              Param #   \n",
      "=================================================================\n",
      "dense_1 (Dense)              (None, 64)                50240     \n",
      "_________________________________________________________________\n",
      "batch_normalization_1 (Batch (None, 64)                256       \n",
      "_________________________________________________________________\n",
      "dropout_1 (Dropout)          (None, 64)                0         \n",
      "_________________________________________________________________\n",
      "dense_2 (Dense)              (None, 64)                4160      \n",
      "_________________________________________________________________\n",
      "batch_normalization_2 (Batch (None, 64)                256       \n",
      "_________________________________________________________________\n",
      "dropout_2 (Dropout)          (None, 64)                0         \n",
      "_________________________________________________________________\n",
      "dense_3 (Dense)              (None, 64)                4160      \n",
      "_________________________________________________________________\n",
      "batch_normalization_3 (Batch (None, 64)                256       \n",
      "_________________________________________________________________\n",
      "dropout_3 (Dropout)          (None, 64)                0         \n",
      "_________________________________________________________________\n",
      "dense_4 (Dense)              (None, 10)                650       \n",
      "=================================================================\n",
      "Total params: 59,978\n",
      "Trainable params: 59,594\n",
      "Non-trainable params: 384\n",
      "_________________________________________________________________\n"
     ]
    }
   ],
   "source": [
    "model.summary()"
   ]
  },
  {
   "cell_type": "markdown",
   "metadata": {},
   "source": [
    "#### Configure model"
   ]
  },
  {
   "cell_type": "code",
   "execution_count": 9,
   "metadata": {},
   "outputs": [],
   "source": [
    "#model.compile(loss='categorical_crossentropy', optimizer=SGD(lr=0.1),metrics=['accuracy'])\n",
    "model.compile(loss='categorical_crossentropy', optimizer='adam',metrics=['accuracy'])"
   ]
  },
  {
   "cell_type": "markdown",
   "metadata": {},
   "source": [
    "#### Train"
   ]
  },
  {
   "cell_type": "code",
   "execution_count": 10,
   "metadata": {},
   "outputs": [
    {
     "name": "stdout",
     "output_type": "stream",
     "text": [
      "Train on 60000 samples, validate on 10000 samples\n",
      "Epoch 1/100\n",
      "60000/60000 [==============================] - 4s - loss: 1.1486 - acc: 0.6263 - val_loss: 0.3238 - val_acc: 0.9092\n",
      "Epoch 2/100\n",
      "60000/60000 [==============================] - 4s - loss: 0.5658 - acc: 0.8318 - val_loss: 0.2518 - val_acc: 0.9265\n",
      "Epoch 3/100\n",
      "60000/60000 [==============================] - 4s - loss: 0.4585 - acc: 0.8688 - val_loss: 0.2259 - val_acc: 0.9342\n",
      "Epoch 4/100\n",
      "60000/60000 [==============================] - 4s - loss: 0.4010 - acc: 0.8876 - val_loss: 0.2074 - val_acc: 0.9394\n",
      "Epoch 5/100\n",
      "60000/60000 [==============================] - 4s - loss: 0.3711 - acc: 0.8970 - val_loss: 0.1927 - val_acc: 0.9442\n",
      "Epoch 6/100\n",
      "60000/60000 [==============================] - 4s - loss: 0.3466 - acc: 0.9036 - val_loss: 0.1760 - val_acc: 0.9469\n",
      "Epoch 7/100\n",
      "60000/60000 [==============================] - 5s - loss: 0.3297 - acc: 0.9091 - val_loss: 0.1708 - val_acc: 0.9499\n",
      "Epoch 8/100\n",
      "60000/60000 [==============================] - 4s - loss: 0.3229 - acc: 0.9116 - val_loss: 0.1670 - val_acc: 0.9525\n",
      "Epoch 9/100\n",
      "60000/60000 [==============================] - 4s - loss: 0.3089 - acc: 0.9156 - val_loss: 0.1639 - val_acc: 0.9523\n",
      "Epoch 10/100\n",
      "60000/60000 [==============================] - 4s - loss: 0.2962 - acc: 0.9171 - val_loss: 0.1542 - val_acc: 0.9563\n",
      "Epoch 11/100\n",
      "60000/60000 [==============================] - 4s - loss: 0.2976 - acc: 0.9173 - val_loss: 0.1517 - val_acc: 0.9579\n",
      "Epoch 12/100\n",
      "60000/60000 [==============================] - 4s - loss: 0.2876 - acc: 0.9203 - val_loss: 0.1493 - val_acc: 0.9586\n",
      "Epoch 13/100\n",
      "60000/60000 [==============================] - 4s - loss: 0.2751 - acc: 0.9242 - val_loss: 0.1434 - val_acc: 0.9585\n",
      "Epoch 14/100\n",
      "60000/60000 [==============================] - 4s - loss: 0.2712 - acc: 0.9249 - val_loss: 0.1472 - val_acc: 0.9590\n",
      "Epoch 15/100\n",
      "60000/60000 [==============================] - 4s - loss: 0.2692 - acc: 0.9257 - val_loss: 0.1455 - val_acc: 0.9602\n",
      "Epoch 16/100\n",
      "60000/60000 [==============================] - 4s - loss: 0.2637 - acc: 0.9274 - val_loss: 0.1473 - val_acc: 0.9576\n",
      "Epoch 17/100\n",
      "60000/60000 [==============================] - 5s - loss: 0.2625 - acc: 0.9275 - val_loss: 0.1417 - val_acc: 0.9620\n",
      "Epoch 18/100\n",
      "60000/60000 [==============================] - 5s - loss: 0.2582 - acc: 0.9284 - val_loss: 0.1389 - val_acc: 0.9612\n",
      "Epoch 19/100\n",
      "60000/60000 [==============================] - 5s - loss: 0.2541 - acc: 0.9302 - val_loss: 0.1424 - val_acc: 0.9593\n",
      "Epoch 20/100\n",
      "60000/60000 [==============================] - 4s - loss: 0.2526 - acc: 0.9302 - val_loss: 0.1431 - val_acc: 0.9598\n",
      "Epoch 21/100\n",
      "60000/60000 [==============================] - 4s - loss: 0.2464 - acc: 0.9321 - val_loss: 0.1386 - val_acc: 0.9625\n",
      "Epoch 22/100\n",
      "60000/60000 [==============================] - 4s - loss: 0.2429 - acc: 0.9329 - val_loss: 0.1404 - val_acc: 0.9607\n",
      "Epoch 23/100\n",
      "60000/60000 [==============================] - 5s - loss: 0.2464 - acc: 0.9329 - val_loss: 0.1363 - val_acc: 0.9623\n",
      "Epoch 24/100\n",
      "60000/60000 [==============================] - 3s - loss: 0.2432 - acc: 0.9337 - val_loss: 0.1368 - val_acc: 0.9633\n",
      "Epoch 25/100\n",
      "60000/60000 [==============================] - 5s - loss: 0.2389 - acc: 0.9339 - val_loss: 0.1344 - val_acc: 0.9644\n",
      "Epoch 26/100\n",
      "60000/60000 [==============================] - 4s - loss: 0.2390 - acc: 0.9341 - val_loss: 0.1324 - val_acc: 0.9649\n",
      "Epoch 27/100\n",
      "60000/60000 [==============================] - 6s - loss: 0.2370 - acc: 0.9348 - val_loss: 0.1335 - val_acc: 0.9636\n",
      "Epoch 28/100\n",
      "60000/60000 [==============================] - 4s - loss: 0.2365 - acc: 0.9333 - val_loss: 0.1343 - val_acc: 0.9611\n",
      "Epoch 29/100\n",
      "60000/60000 [==============================] - 3s - loss: 0.2386 - acc: 0.9344 - val_loss: 0.1332 - val_acc: 0.9628\n",
      "Epoch 30/100\n",
      "60000/60000 [==============================] - 3s - loss: 0.2291 - acc: 0.9368 - val_loss: 0.1331 - val_acc: 0.9634\n",
      "Epoch 31/100\n",
      "60000/60000 [==============================] - 4s - loss: 0.2283 - acc: 0.9364 - val_loss: 0.1312 - val_acc: 0.9643\n",
      "Epoch 32/100\n",
      "60000/60000 [==============================] - 3s - loss: 0.2272 - acc: 0.9372 - val_loss: 0.1299 - val_acc: 0.9655\n",
      "Epoch 33/100\n",
      "60000/60000 [==============================] - 3s - loss: 0.2263 - acc: 0.9371 - val_loss: 0.1321 - val_acc: 0.9641\n",
      "Epoch 34/100\n",
      "60000/60000 [==============================] - 3s - loss: 0.2307 - acc: 0.9366 - val_loss: 0.1297 - val_acc: 0.9655\n",
      "Epoch 35/100\n",
      "60000/60000 [==============================] - 3s - loss: 0.2238 - acc: 0.9379 - val_loss: 0.1312 - val_acc: 0.9634\n",
      "Epoch 36/100\n",
      "60000/60000 [==============================] - 4s - loss: 0.2203 - acc: 0.9394 - val_loss: 0.1275 - val_acc: 0.9661\n",
      "Epoch 37/100\n",
      "60000/60000 [==============================] - 3s - loss: 0.2194 - acc: 0.9406 - val_loss: 0.1252 - val_acc: 0.9670\n",
      "Epoch 38/100\n",
      "60000/60000 [==============================] - 3s - loss: 0.2230 - acc: 0.9401 - val_loss: 0.1273 - val_acc: 0.9653\n",
      "Epoch 39/100\n",
      "60000/60000 [==============================] - 3s - loss: 0.2195 - acc: 0.9383 - val_loss: 0.1290 - val_acc: 0.9658\n",
      "Epoch 40/100\n",
      "60000/60000 [==============================] - 3s - loss: 0.2189 - acc: 0.9390 - val_loss: 0.1277 - val_acc: 0.9662\n",
      "Epoch 41/100\n",
      "60000/60000 [==============================] - 3s - loss: 0.2186 - acc: 0.9393 - val_loss: 0.1277 - val_acc: 0.9649\n",
      "Epoch 42/100\n",
      "60000/60000 [==============================] - 3s - loss: 0.2157 - acc: 0.9402 - val_loss: 0.1269 - val_acc: 0.9655\n",
      "Epoch 43/100\n",
      "60000/60000 [==============================] - 3s - loss: 0.2185 - acc: 0.9394 - val_loss: 0.1234 - val_acc: 0.9664\n",
      "Epoch 44/100\n",
      "60000/60000 [==============================] - 3s - loss: 0.2133 - acc: 0.9414 - val_loss: 0.1289 - val_acc: 0.9658\n",
      "Epoch 45/100\n",
      "60000/60000 [==============================] - 3s - loss: 0.2135 - acc: 0.9411 - val_loss: 0.1281 - val_acc: 0.9655\n",
      "Epoch 46/100\n",
      "60000/60000 [==============================] - 3s - loss: 0.2118 - acc: 0.9405 - val_loss: 0.1259 - val_acc: 0.9657\n",
      "Epoch 47/100\n",
      "60000/60000 [==============================] - 3s - loss: 0.2113 - acc: 0.9411 - val_loss: 0.1264 - val_acc: 0.9659\n",
      "Epoch 48/100\n",
      "60000/60000 [==============================] - 3s - loss: 0.2147 - acc: 0.9404 - val_loss: 0.1236 - val_acc: 0.9651\n",
      "Epoch 49/100\n",
      "60000/60000 [==============================] - 3s - loss: 0.2135 - acc: 0.9401 - val_loss: 0.1279 - val_acc: 0.9657\n",
      "Epoch 50/100\n",
      "60000/60000 [==============================] - 3s - loss: 0.2132 - acc: 0.9412 - val_loss: 0.1294 - val_acc: 0.9657\n",
      "Epoch 51/100\n",
      "60000/60000 [==============================] - 3s - loss: 0.2114 - acc: 0.9415 - val_loss: 0.1285 - val_acc: 0.9666\n",
      "Epoch 52/100\n",
      "60000/60000 [==============================] - 3s - loss: 0.2068 - acc: 0.9421 - val_loss: 0.1275 - val_acc: 0.9664\n",
      "Epoch 53/100\n",
      "60000/60000 [==============================] - 3s - loss: 0.2075 - acc: 0.9419 - val_loss: 0.1216 - val_acc: 0.9678\n",
      "Epoch 54/100\n",
      "60000/60000 [==============================] - 3s - loss: 0.2062 - acc: 0.9421 - val_loss: 0.1214 - val_acc: 0.9656\n",
      "Epoch 55/100\n",
      "60000/60000 [==============================] - 3s - loss: 0.2053 - acc: 0.9434 - val_loss: 0.1239 - val_acc: 0.9660\n",
      "Epoch 56/100\n",
      "60000/60000 [==============================] - 4s - loss: 0.2127 - acc: 0.9408 - val_loss: 0.1191 - val_acc: 0.9690\n",
      "Epoch 57/100\n",
      "60000/60000 [==============================] - 3s - loss: 0.2060 - acc: 0.9429 - val_loss: 0.1251 - val_acc: 0.9658\n",
      "Epoch 58/100\n",
      "60000/60000 [==============================] - 3s - loss: 0.2078 - acc: 0.9423 - val_loss: 0.1247 - val_acc: 0.9658\n",
      "Epoch 59/100\n",
      "60000/60000 [==============================] - 3s - loss: 0.2041 - acc: 0.9422 - val_loss: 0.1238 - val_acc: 0.9655\n",
      "Epoch 60/100\n",
      "60000/60000 [==============================] - 3s - loss: 0.2083 - acc: 0.9424 - val_loss: 0.1198 - val_acc: 0.9666\n",
      "Epoch 61/100\n",
      "60000/60000 [==============================] - 3s - loss: 0.1991 - acc: 0.9441 - val_loss: 0.1229 - val_acc: 0.9671\n",
      "Epoch 62/100\n",
      "60000/60000 [==============================] - 3s - loss: 0.2011 - acc: 0.9435 - val_loss: 0.1260 - val_acc: 0.9664\n",
      "Epoch 63/100\n",
      "60000/60000 [==============================] - 3s - loss: 0.2081 - acc: 0.9418 - val_loss: 0.1276 - val_acc: 0.9663\n",
      "Epoch 64/100\n"
     ]
    },
    {
     "name": "stdout",
     "output_type": "stream",
     "text": [
      "60000/60000 [==============================] - 3s - loss: 0.2037 - acc: 0.9439 - val_loss: 0.1224 - val_acc: 0.9660\n",
      "Epoch 65/100\n",
      "60000/60000 [==============================] - 3s - loss: 0.1989 - acc: 0.9437 - val_loss: 0.1212 - val_acc: 0.9664\n",
      "Epoch 66/100\n",
      "60000/60000 [==============================] - 3s - loss: 0.2037 - acc: 0.9435 - val_loss: 0.1247 - val_acc: 0.9669\n",
      "Epoch 67/100\n",
      "60000/60000 [==============================] - 3s - loss: 0.1987 - acc: 0.9444 - val_loss: 0.1233 - val_acc: 0.9666\n",
      "Epoch 68/100\n",
      "60000/60000 [==============================] - 3s - loss: 0.1992 - acc: 0.9445 - val_loss: 0.1250 - val_acc: 0.9664\n",
      "Epoch 69/100\n",
      "60000/60000 [==============================] - 3s - loss: 0.1978 - acc: 0.9440 - val_loss: 0.1232 - val_acc: 0.9676\n",
      "Epoch 70/100\n",
      "60000/60000 [==============================] - 3s - loss: 0.1989 - acc: 0.9435 - val_loss: 0.1262 - val_acc: 0.9655\n",
      "Epoch 71/100\n",
      "60000/60000 [==============================] - 3s - loss: 0.1963 - acc: 0.9444 - val_loss: 0.1246 - val_acc: 0.9676\n",
      "Epoch 72/100\n",
      "60000/60000 [==============================] - 3s - loss: 0.1959 - acc: 0.9439 - val_loss: 0.1244 - val_acc: 0.9674\n",
      "Epoch 73/100\n",
      "60000/60000 [==============================] - 3s - loss: 0.1945 - acc: 0.9464 - val_loss: 0.1239 - val_acc: 0.9676\n",
      "Epoch 74/100\n",
      "60000/60000 [==============================] - 3s - loss: 0.1995 - acc: 0.9447 - val_loss: 0.1207 - val_acc: 0.9681\n",
      "Epoch 75/100\n",
      "60000/60000 [==============================] - 3s - loss: 0.1961 - acc: 0.9454 - val_loss: 0.1243 - val_acc: 0.9670\n",
      "Epoch 76/100\n",
      "60000/60000 [==============================] - 3s - loss: 0.1996 - acc: 0.9449 - val_loss: 0.1237 - val_acc: 0.9679\n",
      "Epoch 77/100\n",
      "60000/60000 [==============================] - 3s - loss: 0.1961 - acc: 0.9458 - val_loss: 0.1291 - val_acc: 0.9667\n",
      "Epoch 78/100\n",
      "60000/60000 [==============================] - 3s - loss: 0.1955 - acc: 0.9455 - val_loss: 0.1203 - val_acc: 0.9678\n",
      "Epoch 79/100\n",
      "60000/60000 [==============================] - 3s - loss: 0.1958 - acc: 0.9448 - val_loss: 0.1219 - val_acc: 0.9675\n",
      "Epoch 80/100\n",
      "60000/60000 [==============================] - 3s - loss: 0.1953 - acc: 0.9447 - val_loss: 0.1255 - val_acc: 0.9672\n",
      "Epoch 81/100\n",
      "60000/60000 [==============================] - 3s - loss: 0.1956 - acc: 0.9446 - val_loss: 0.1271 - val_acc: 0.9666\n",
      "Epoch 82/100\n",
      "60000/60000 [==============================] - 3s - loss: 0.1908 - acc: 0.9468 - val_loss: 0.1289 - val_acc: 0.9658\n",
      "Epoch 83/100\n",
      "60000/60000 [==============================] - 3s - loss: 0.1928 - acc: 0.9455 - val_loss: 0.1249 - val_acc: 0.9671\n",
      "Epoch 84/100\n",
      "60000/60000 [==============================] - 3s - loss: 0.1926 - acc: 0.9449 - val_loss: 0.1256 - val_acc: 0.9668\n",
      "Epoch 85/100\n",
      "60000/60000 [==============================] - 3s - loss: 0.1952 - acc: 0.9456 - val_loss: 0.1218 - val_acc: 0.9676\n",
      "Epoch 86/100\n",
      "60000/60000 [==============================] - 3s - loss: 0.1906 - acc: 0.9463 - val_loss: 0.1261 - val_acc: 0.9672\n",
      "Epoch 87/100\n",
      "60000/60000 [==============================] - 3s - loss: 0.1913 - acc: 0.9456 - val_loss: 0.1262 - val_acc: 0.9664\n",
      "Epoch 88/100\n",
      "60000/60000 [==============================] - 3s - loss: 0.1925 - acc: 0.9455 - val_loss: 0.1230 - val_acc: 0.9679\n",
      "Epoch 89/100\n",
      "60000/60000 [==============================] - 3s - loss: 0.1876 - acc: 0.9469 - val_loss: 0.1205 - val_acc: 0.9687\n",
      "Epoch 90/100\n",
      "60000/60000 [==============================] - 3s - loss: 0.1925 - acc: 0.9458 - val_loss: 0.1287 - val_acc: 0.9669\n",
      "Epoch 91/100\n",
      "60000/60000 [==============================] - 3s - loss: 0.1901 - acc: 0.9462 - val_loss: 0.1222 - val_acc: 0.9670\n",
      "Epoch 92/100\n",
      "60000/60000 [==============================] - 3s - loss: 0.1950 - acc: 0.9465 - val_loss: 0.1229 - val_acc: 0.9686\n",
      "Epoch 93/100\n",
      "60000/60000 [==============================] - 3s - loss: 0.1941 - acc: 0.9462 - val_loss: 0.1230 - val_acc: 0.9673\n",
      "Epoch 94/100\n",
      "60000/60000 [==============================] - 3s - loss: 0.1897 - acc: 0.9460 - val_loss: 0.1243 - val_acc: 0.9674\n",
      "Epoch 95/100\n",
      "60000/60000 [==============================] - 3s - loss: 0.1875 - acc: 0.9474 - val_loss: 0.1255 - val_acc: 0.9675\n",
      "Epoch 96/100\n",
      "60000/60000 [==============================] - 3s - loss: 0.1844 - acc: 0.9475 - val_loss: 0.1226 - val_acc: 0.9671\n",
      "Epoch 97/100\n",
      "60000/60000 [==============================] - 3s - loss: 0.1873 - acc: 0.9476 - val_loss: 0.1256 - val_acc: 0.9680\n",
      "Epoch 98/100\n",
      "60000/60000 [==============================] - 3s - loss: 0.1888 - acc: 0.9469 - val_loss: 0.1257 - val_acc: 0.9675\n",
      "Epoch 99/100\n",
      "60000/60000 [==============================] - 3s - loss: 0.1901 - acc: 0.9461 - val_loss: 0.1159 - val_acc: 0.9687\n",
      "Epoch 100/100\n",
      "60000/60000 [==============================] - 3s - loss: 0.1882 - acc: 0.9471 - val_loss: 0.1247 - val_acc: 0.9681\n"
     ]
    },
    {
     "data": {
      "text/plain": [
       "<keras.callbacks.History at 0x7f63baaf6e48>"
      ]
     },
     "execution_count": 10,
     "metadata": {},
     "output_type": "execute_result"
    }
   ],
   "source": [
    "model.fit(X_train, y_train, batch_size=128, epochs=100, verbose=1, validation_data=(X_test,y_test))"
   ]
  },
  {
   "cell_type": "code",
   "execution_count": null,
   "metadata": {},
   "outputs": [],
   "source": []
  }
 ],
 "metadata": {
  "kernelspec": {
   "display_name": "Python 3",
   "language": "python",
   "name": "python3"
  },
  "language_info": {
   "codemirror_mode": {
    "name": "ipython",
    "version": 3
   },
   "file_extension": ".py",
   "mimetype": "text/x-python",
   "name": "python",
   "nbconvert_exporter": "python",
   "pygments_lexer": "ipython3",
   "version": "3.6.3"
  }
 },
 "nbformat": 4,
 "nbformat_minor": 2
}
