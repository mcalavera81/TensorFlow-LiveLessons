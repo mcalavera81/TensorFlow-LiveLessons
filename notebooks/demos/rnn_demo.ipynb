{
 "cells": [
  {
   "cell_type": "markdown",
   "metadata": {},
   "source": [
    "# RNN Sentiment Classifier"
   ]
  },
  {
   "cell_type": "markdown",
   "metadata": {},
   "source": [
    "We are going to classify IMDB reviews by their sentiment with an *RNN*"
   ]
  },
  {
   "cell_type": "markdown",
   "metadata": {},
   "source": [
    "#### Load dependencies"
   ]
  },
  {
   "cell_type": "code",
   "execution_count": 1,
   "metadata": {},
   "outputs": [],
   "source": [
    "import keras\n",
    "from keras.datasets import imdb\n",
    "from keras.preprocessing.sequence import pad_sequences\n",
    "from keras.models import Sequential\n",
    "from keras.layers import Dense, Flatten, Dropout\n",
    "from keras.layers import SpatialDropout1D\n",
    "from keras.layers import SimpleRNN\n",
    "from keras.layers import Embedding\n",
    "from keras.callbacks import ModelCheckpoint\n",
    "import os\n",
    "from sklearn.metrics import roc_auc_score\n",
    "import matplotlib.pyplot as plt\n",
    "%matplotlib inline"
   ]
  },
  {
   "cell_type": "markdown",
   "metadata": {},
   "source": [
    "#### Set hyperparameters"
   ]
  },
  {
   "cell_type": "code",
   "execution_count": 2,
   "metadata": {},
   "outputs": [],
   "source": [
    "output_dir = 'model_output/rnn'\n",
    "\n",
    "epochs = 24\n",
    "batch_size =128\n",
    "\n",
    "n_dim = 64\n",
    "n_unique_words= 10000\n",
    "max_review_length = 100\n",
    "pad_type = trunc_type = 'pre'\n",
    "drop_embed = 0.2\n",
    "\n",
    "n_rnn = 256\n",
    "drop_rnn = 0.2\n",
    "\n",
    "#n_dense = 256\n",
    "#dropout = 0.25"
   ]
  },
  {
   "cell_type": "markdown",
   "metadata": {},
   "source": [
    "#### Load data"
   ]
  },
  {
   "cell_type": "code",
   "execution_count": 3,
   "metadata": {},
   "outputs": [],
   "source": [
    "(x_train, y_train) , (x_valid, y_valid) = imdb.load_data(num_words=n_unique_words)"
   ]
  },
  {
   "cell_type": "markdown",
   "metadata": {},
   "source": [
    "#### Preprocess data"
   ]
  },
  {
   "cell_type": "code",
   "execution_count": 4,
   "metadata": {},
   "outputs": [],
   "source": [
    "x_train_1 = pad_sequences(x_train, maxlen=max_review_length, padding=pad_type, \n",
    "                        truncating=trunc_type,value=0)\n",
    "x_valid_1 = pad_sequences(x_valid, maxlen=max_review_length, padding=pad_type, \n",
    "                        truncating=trunc_type,value=0)"
   ]
  },
  {
   "cell_type": "markdown",
   "metadata": {},
   "source": [
    "#### Design NN Architecture"
   ]
  },
  {
   "cell_type": "code",
   "execution_count": 5,
   "metadata": {},
   "outputs": [],
   "source": [
    "model = Sequential()\n",
    "model.add(Embedding(n_unique_words, n_dim, input_length=max_review_length))\n",
    "model.add(SpatialDropout1D(drop_embed))\n",
    "model.add(SimpleRNN(n_rnn, dropout=drop_rnn))\n",
    "model.add(Dense(1, activation='sigmoid'))"
   ]
  },
  {
   "cell_type": "code",
   "execution_count": 6,
   "metadata": {},
   "outputs": [
    {
     "name": "stdout",
     "output_type": "stream",
     "text": [
      "_________________________________________________________________\n",
      "Layer (type)                 Output Shape              Param #   \n",
      "=================================================================\n",
      "embedding_1 (Embedding)      (None, 100, 64)           640000    \n",
      "_________________________________________________________________\n",
      "spatial_dropout1d_1 (Spatial (None, 100, 64)           0         \n",
      "_________________________________________________________________\n",
      "simple_rnn_1 (SimpleRNN)     (None, 256)               82176     \n",
      "_________________________________________________________________\n",
      "dense_1 (Dense)              (None, 1)                 257       \n",
      "=================================================================\n",
      "Total params: 722,433\n",
      "Trainable params: 722,433\n",
      "Non-trainable params: 0\n",
      "_________________________________________________________________\n"
     ]
    }
   ],
   "source": [
    "model.summary()"
   ]
  },
  {
   "cell_type": "markdown",
   "metadata": {},
   "source": [
    "#### Configure model"
   ]
  },
  {
   "cell_type": "code",
   "execution_count": 8,
   "metadata": {},
   "outputs": [],
   "source": [
    "model.compile(loss='binary_crossentropy', optimizer='adam', metrics=['accuracy'])"
   ]
  },
  {
   "cell_type": "code",
   "execution_count": 9,
   "metadata": {},
   "outputs": [],
   "source": [
    "model_checkpoint =  ModelCheckpoint(filepath=output_dir+\"weights.{epoch:02d}.hdf5\")"
   ]
  },
  {
   "cell_type": "code",
   "execution_count": 10,
   "metadata": {},
   "outputs": [],
   "source": [
    "if not os.path.exists(output_dir):\n",
    "    os.makedirs(output_dir)"
   ]
  },
  {
   "cell_type": "markdown",
   "metadata": {},
   "source": [
    "#### Train!"
   ]
  },
  {
   "cell_type": "code",
   "execution_count": 11,
   "metadata": {},
   "outputs": [
    {
     "name": "stdout",
     "output_type": "stream",
     "text": [
      "Train on 25000 samples, validate on 25000 samples\n",
      "Epoch 1/24\n",
      "25000/25000 [==============================] - 62s 2ms/step - loss: 0.6984 - acc: 0.5199 - val_loss: 0.6892 - val_acc: 0.5324\n",
      "Epoch 2/24\n",
      "25000/25000 [==============================] - 62s 2ms/step - loss: 0.6910 - acc: 0.5350 - val_loss: 0.6799 - val_acc: 0.5682\n",
      "Epoch 3/24\n",
      "25000/25000 [==============================] - 60s 2ms/step - loss: 0.6624 - acc: 0.5940 - val_loss: 0.6752 - val_acc: 0.5949\n",
      "Epoch 4/24\n",
      "25000/25000 [==============================] - 51s 2ms/step - loss: 0.6213 - acc: 0.6506 - val_loss: 0.6237 - val_acc: 0.6491\n",
      "Epoch 5/24\n",
      "25000/25000 [==============================] - 65s 3ms/step - loss: 0.5615 - acc: 0.7108 - val_loss: 0.5975 - val_acc: 0.6996\n",
      "Epoch 6/24\n",
      "25000/25000 [==============================] - 73s 3ms/step - loss: 0.5052 - acc: 0.7547 - val_loss: 0.5719 - val_acc: 0.7291\n",
      "Epoch 7/24\n",
      "25000/25000 [==============================] - 76s 3ms/step - loss: 0.4845 - acc: 0.7738 - val_loss: 0.6233 - val_acc: 0.7047\n",
      "Epoch 8/24\n",
      "25000/25000 [==============================] - 63s 3ms/step - loss: 0.4457 - acc: 0.8045 - val_loss: 0.5610 - val_acc: 0.7328\n",
      "Epoch 9/24\n",
      "25000/25000 [==============================] - 64s 3ms/step - loss: 0.3942 - acc: 0.8306 - val_loss: 0.5783 - val_acc: 0.7222\n",
      "Epoch 10/24\n",
      "25000/25000 [==============================] - 67s 3ms/step - loss: 0.3864 - acc: 0.8324 - val_loss: 0.5691 - val_acc: 0.7230\n",
      "Epoch 11/24\n",
      "25000/25000 [==============================] - 54s 2ms/step - loss: 0.3748 - acc: 0.8458 - val_loss: 0.5808 - val_acc: 0.7442\n",
      "Epoch 12/24\n",
      "25000/25000 [==============================] - 59s 2ms/step - loss: 0.5101 - acc: 0.7368 - val_loss: 0.6596 - val_acc: 0.6170\n",
      "Epoch 13/24\n",
      "25000/25000 [==============================] - 63s 3ms/step - loss: 0.5005 - acc: 0.7502 - val_loss: 0.8629 - val_acc: 0.6279\n",
      "Epoch 14/24\n",
      "25000/25000 [==============================] - 60s 2ms/step - loss: 0.4681 - acc: 0.7704 - val_loss: 0.6652 - val_acc: 0.6862\n",
      "Epoch 15/24\n",
      "25000/25000 [==============================] - 58s 2ms/step - loss: 0.3718 - acc: 0.8407 - val_loss: 0.6490 - val_acc: 0.7103\n",
      "Epoch 16/24\n",
      "25000/25000 [==============================] - 64s 3ms/step - loss: 0.3501 - acc: 0.8536 - val_loss: 0.6006 - val_acc: 0.7468\n",
      "Epoch 17/24\n",
      "25000/25000 [==============================] - 61s 2ms/step - loss: 0.4384 - acc: 0.7871 - val_loss: 0.6963 - val_acc: 0.6132\n",
      "Epoch 18/24\n",
      "25000/25000 [==============================] - 67s 3ms/step - loss: 0.4231 - acc: 0.8012 - val_loss: 0.6389 - val_acc: 0.7253\n",
      "Epoch 19/24\n",
      "25000/25000 [==============================] - 66s 3ms/step - loss: 0.3130 - acc: 0.8734 - val_loss: 0.7059 - val_acc: 0.6673\n",
      "Epoch 20/24\n",
      "25000/25000 [==============================] - 67s 3ms/step - loss: 0.3301 - acc: 0.8660 - val_loss: 0.6710 - val_acc: 0.6908\n",
      "Epoch 21/24\n",
      "25000/25000 [==============================] - 58s 2ms/step - loss: 0.3156 - acc: 0.8705 - val_loss: 0.6907 - val_acc: 0.7240\n",
      "Epoch 22/24\n",
      "25000/25000 [==============================] - 58s 2ms/step - loss: 0.2790 - acc: 0.8872 - val_loss: 0.6626 - val_acc: 0.7416\n",
      "Epoch 23/24\n",
      "25000/25000 [==============================] - 70s 3ms/step - loss: 0.2867 - acc: 0.8871 - val_loss: 0.6584 - val_acc: 0.7033\n",
      "Epoch 24/24\n",
      "25000/25000 [==============================] - 60s 2ms/step - loss: 0.4303 - acc: 0.8068 - val_loss: 0.7092 - val_acc: 0.6290\n"
     ]
    },
    {
     "data": {
      "text/plain": [
       "<keras.callbacks.History at 0x7f0bdafccc18>"
      ]
     },
     "execution_count": 11,
     "metadata": {},
     "output_type": "execute_result"
    }
   ],
   "source": [
    "model.fit(x_train_1, y_train, batch_size=batch_size, epochs=epochs, verbose=1,\n",
    "         validation_data=(x_valid_1,y_valid), callbacks=[model_checkpoint])"
   ]
  },
  {
   "cell_type": "markdown",
   "metadata": {},
   "source": [
    "#### Evaluate"
   ]
  },
  {
   "cell_type": "code",
   "execution_count": 12,
   "metadata": {},
   "outputs": [],
   "source": [
    "model.load_weights(output_dir+'weights.21.hdf5')"
   ]
  },
  {
   "cell_type": "code",
   "execution_count": 13,
   "metadata": {},
   "outputs": [],
   "source": [
    "y_hat = model.predict_proba(x_valid_1)"
   ]
  },
  {
   "cell_type": "code",
   "execution_count": 14,
   "metadata": {},
   "outputs": [
    {
     "data": {
      "text/plain": [
       "array([0.31608912], dtype=float32)"
      ]
     },
     "execution_count": 14,
     "metadata": {},
     "output_type": "execute_result"
    }
   ],
   "source": [
    "y_hat[0]"
   ]
  },
  {
   "cell_type": "code",
   "execution_count": 15,
   "metadata": {},
   "outputs": [
    {
     "data": {
      "image/png": "[encoded data removed]",
      "text/plain": [
       "<matplotlib.figure.Figure at 0x7f0bd9dcfb70>"
      ]
     },
     "metadata": {},
     "output_type": "display_data"
    }
   ],
   "source": [
    "plt.hist(y_hat)\n",
    "_ = plt.axvline(x=0.5, color='orange')"
   ]
  },
  {
   "cell_type": "code",
   "execution_count": 16,
   "metadata": {},
   "outputs": [],
   "source": [
    "pct_auc = roc_auc_score(y_valid, y_hat)*100.0"
   ]
  },
  {
   "cell_type": "code",
   "execution_count": 17,
   "metadata": {},
   "outputs": [
    {
     "data": {
      "text/plain": [
       "'77.66'"
      ]
     },
     "execution_count": 17,
     "metadata": {},
     "output_type": "execute_result"
    }
   ],
   "source": [
    "\"{:0.2f}\".format(pct_auc)"
   ]
  },
  {
   "cell_type": "code",
   "execution_count": null,
   "metadata": {},
   "outputs": [],
   "source": []
  }
 ],
 "metadata": {
  "kernelspec": {
   "display_name": "Python 3",
   "language": "python",
   "name": "python3"
  },
  "language_info": {
   "codemirror_mode": {
    "name": "ipython",
    "version": 3
   },
   "file_extension": ".py",
   "mimetype": "text/x-python",
   "name": "python",
   "nbconvert_exporter": "python",
   "pygments_lexer": "ipython3",
   "version": "3.6.3"
  }
 },
 "nbformat": 4,
 "nbformat_minor": 2
}
