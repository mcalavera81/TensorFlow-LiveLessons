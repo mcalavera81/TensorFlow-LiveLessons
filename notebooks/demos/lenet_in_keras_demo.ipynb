{
 "cells": [
  {
   "cell_type": "markdown",
   "metadata": {},
   "source": [
    "# LeNet-5 in Keras"
   ]
  },
  {
   "cell_type": "markdown",
   "metadata": {},
   "source": [
    "Build an deep convolutional neural network to classify MNIST digits"
   ]
  },
  {
   "cell_type": "markdown",
   "metadata": {},
   "source": [
    "#### Set seed for reproducibility"
   ]
  },
  {
   "cell_type": "code",
   "execution_count": 1,
   "metadata": {},
   "outputs": [],
   "source": [
    "import numpy as np\n",
    "np.random.seed(42)"
   ]
  },
  {
   "cell_type": "markdown",
   "metadata": {},
   "source": [
    "#### Load dependencies"
   ]
  },
  {
   "cell_type": "code",
   "execution_count": 2,
   "metadata": {},
   "outputs": [
    {
     "name": "stderr",
     "output_type": "stream",
     "text": [
      "Using TensorFlow backend.\n"
     ]
    }
   ],
   "source": [
    "import keras\n",
    "from keras.datasets import mnist\n",
    "from keras.models import Sequential\n",
    "from keras.layers import Dense, Dropout\n",
    "from keras.layers import Flatten, MaxPooling2D, Conv2D"
   ]
  },
  {
   "cell_type": "markdown",
   "metadata": {},
   "source": [
    "#### Load data"
   ]
  },
  {
   "cell_type": "code",
   "execution_count": 3,
   "metadata": {},
   "outputs": [],
   "source": [
    "(X_train, y_train), (X_test, y_test) = mnist.load_data()"
   ]
  },
  {
   "cell_type": "markdown",
   "metadata": {},
   "source": [
    "#### Preprocess data"
   ]
  },
  {
   "cell_type": "code",
   "execution_count": 4,
   "metadata": {},
   "outputs": [],
   "source": [
    "X_train = X_train.reshape(60000, 28,28,1).astype('float32')\n",
    "X_test = X_test.reshape(10000, 28,28,1).astype('float32')"
   ]
  },
  {
   "cell_type": "code",
   "execution_count": 5,
   "metadata": {},
   "outputs": [],
   "source": [
    "n_classes = 10\n",
    "y_train = keras.utils.to_categorical(y_train, n_classes)\n",
    "y_test = keras.utils.to_categorical(y_test, n_classes)"
   ]
  },
  {
   "cell_type": "markdown",
   "metadata": {},
   "source": [
    "#### Design neural network architecture"
   ]
  },
  {
   "cell_type": "code",
   "execution_count": 6,
   "metadata": {},
   "outputs": [],
   "source": [
    "model = Sequential()\n",
    "model.add(Conv2D(32,kernel_size=(3,3), activation='relu', input_shape=(28,28,1)))\n",
    "model.add(Conv2D(64,kernel_size=(3,3), activation='relu'))\n",
    "model.add(MaxPooling2D(pool_size=(2,2)))\n",
    "model.add(Dropout(0.25))\n",
    "model.add(Flatten())\n",
    "model.add(Dense(128,activation='relu'))\n",
    "model.add(Dropout(0.5))\n",
    "model.add(Dense(n_classes, activation='softmax'))"
   ]
  },
  {
   "cell_type": "code",
   "execution_count": 7,
   "metadata": {
    "scrolled": true
   },
   "outputs": [
    {
     "name": "stdout",
     "output_type": "stream",
     "text": [
      "_________________________________________________________________\n",
      "Layer (type)                 Output Shape              Param #   \n",
      "=================================================================\n",
      "conv2d_1 (Conv2D)            (None, 26, 26, 32)        320       \n",
      "_________________________________________________________________\n",
      "conv2d_2 (Conv2D)            (None, 24, 24, 64)        18496     \n",
      "_________________________________________________________________\n",
      "max_pooling2d_1 (MaxPooling2 (None, 12, 12, 64)        0         \n",
      "_________________________________________________________________\n",
      "dropout_1 (Dropout)          (None, 12, 12, 64)        0         \n",
      "_________________________________________________________________\n",
      "flatten_1 (Flatten)          (None, 9216)              0         \n",
      "_________________________________________________________________\n",
      "dense_1 (Dense)              (None, 128)               1179776   \n",
      "_________________________________________________________________\n",
      "dropout_2 (Dropout)          (None, 128)               0         \n",
      "_________________________________________________________________\n",
      "dense_2 (Dense)              (None, 10)                1290      \n",
      "=================================================================\n",
      "Total params: 1,199,882\n",
      "Trainable params: 1,199,882\n",
      "Non-trainable params: 0\n",
      "_________________________________________________________________\n"
     ]
    }
   ],
   "source": [
    "model.summary()"
   ]
  },
  {
   "cell_type": "markdown",
   "metadata": {},
   "source": [
    "#### Configure model"
   ]
  },
  {
   "cell_type": "code",
   "execution_count": 8,
   "metadata": {},
   "outputs": [],
   "source": [
    "#model.compile(loss='categorical_crossentropy', optimizer=SGD(lr=0.1),metrics=['accuracy'])\n",
    "model.compile(loss='categorical_crossentropy', optimizer='adam',metrics=['accuracy'])"
   ]
  },
  {
   "cell_type": "markdown",
   "metadata": {},
   "source": [
    "#### Train"
   ]
  },
  {
   "cell_type": "code",
   "execution_count": 9,
   "metadata": {},
   "outputs": [
    {
     "name": "stdout",
     "output_type": "stream",
     "text": [
      "Train on 60000 samples, validate on 10000 samples\n",
      "Epoch 1/20\n",
      "60000/60000 [==============================] - 211s - loss: 5.7892 - acc: 0.6095 - val_loss: 0.1355 - val_acc: 0.9639\n",
      "Epoch 2/20\n",
      "60000/60000 [==============================] - 224s - loss: 0.1739 - acc: 0.9500 - val_loss: 0.0672 - val_acc: 0.9800\n",
      "Epoch 3/20\n",
      "60000/60000 [==============================] - 291s - loss: 0.1163 - acc: 0.9660 - val_loss: 0.0568 - val_acc: 0.9825\n",
      "Epoch 4/20\n",
      "60000/60000 [==============================] - 293s - loss: 0.0913 - acc: 0.9725 - val_loss: 0.0475 - val_acc: 0.9860\n",
      "Epoch 5/20\n",
      "60000/60000 [==============================] - 296s - loss: 0.0763 - acc: 0.9765 - val_loss: 0.0461 - val_acc: 0.9865\n",
      "Epoch 6/20\n",
      "60000/60000 [==============================] - 259s - loss: 0.0663 - acc: 0.9798 - val_loss: 0.0447 - val_acc: 0.9861\n",
      "Epoch 7/20\n",
      "60000/60000 [==============================] - 256s - loss: 0.0604 - acc: 0.9815 - val_loss: 0.0415 - val_acc: 0.9873\n",
      "Epoch 8/20\n",
      "60000/60000 [==============================] - 232s - loss: 0.0555 - acc: 0.9824 - val_loss: 0.0424 - val_acc: 0.9876\n",
      "Epoch 9/20\n",
      "60000/60000 [==============================] - 245s - loss: 0.0521 - acc: 0.9835 - val_loss: 0.0407 - val_acc: 0.9883\n",
      "Epoch 10/20\n",
      "60000/60000 [==============================] - 232s - loss: 0.0492 - acc: 0.9847 - val_loss: 0.0385 - val_acc: 0.9883\n",
      "Epoch 11/20\n",
      "60000/60000 [==============================] - 221s - loss: 0.0481 - acc: 0.9848 - val_loss: 0.0440 - val_acc: 0.9893\n",
      "Epoch 12/20\n",
      "60000/60000 [==============================] - 199s - loss: 0.0438 - acc: 0.9862 - val_loss: 0.0419 - val_acc: 0.9895\n",
      "Epoch 13/20\n",
      "60000/60000 [==============================] - 187s - loss: 0.0405 - acc: 0.9870 - val_loss: 0.0417 - val_acc: 0.9890\n",
      "Epoch 14/20\n",
      "60000/60000 [==============================] - 190s - loss: 0.0398 - acc: 0.9874 - val_loss: 0.0432 - val_acc: 0.9900\n",
      "Epoch 15/20\n",
      "60000/60000 [==============================] - 186s - loss: 0.0377 - acc: 0.9885 - val_loss: 0.0405 - val_acc: 0.9905\n",
      "Epoch 16/20\n",
      "60000/60000 [==============================] - 188s - loss: 0.0363 - acc: 0.9886 - val_loss: 0.0453 - val_acc: 0.9898\n",
      "Epoch 17/20\n",
      "60000/60000 [==============================] - 181s - loss: 0.0358 - acc: 0.9884 - val_loss: 0.0425 - val_acc: 0.9902\n",
      "Epoch 18/20\n",
      "60000/60000 [==============================] - 183s - loss: 0.0344 - acc: 0.9896 - val_loss: 0.0424 - val_acc: 0.9885\n",
      "Epoch 19/20\n",
      "60000/60000 [==============================] - 203s - loss: 0.0344 - acc: 0.9896 - val_loss: 0.0432 - val_acc: 0.9897\n",
      "Epoch 20/20\n",
      "60000/60000 [==============================] - 206s - loss: 0.0324 - acc: 0.9898 - val_loss: 0.0477 - val_acc: 0.9893\n"
     ]
    },
    {
     "data": {
      "text/plain": [
       "<keras.callbacks.History at 0x7fbf32be4d30>"
      ]
     },
     "execution_count": 9,
     "metadata": {},
     "output_type": "execute_result"
    }
   ],
   "source": [
    "model.fit(X_train, y_train, batch_size=128, epochs=20, verbose=1, validation_data=(X_test,y_test))"
   ]
  },
  {
   "cell_type": "code",
   "execution_count": null,
   "metadata": {},
   "outputs": [],
   "source": []
  }
 ],
 "metadata": {
  "kernelspec": {
   "display_name": "Python 3",
   "language": "python",
   "name": "python3"
  },
  "language_info": {
   "codemirror_mode": {
    "name": "ipython",
    "version": 3
   },
   "file_extension": ".py",
   "mimetype": "text/x-python",
   "name": "python",
   "nbconvert_exporter": "python",
   "pygments_lexer": "ipython3",
   "version": "3.6.3"
  }
 },
 "nbformat": 4,
 "nbformat_minor": 2
}
